{
 "cells": [
  {
   "cell_type": "code",
   "execution_count": 1,
   "metadata": {},
   "outputs": [],
   "source": [
    "import json"
   ]
  },
  {
   "cell_type": "code",
   "execution_count": 3,
   "metadata": {},
   "outputs": [],
   "source": [
    "data=[]\n",
    "with open('yelp_academic_dataset_review.json') as file:\n",
    "    for line in file:\n",
    "        data.append(json.loads(line))"
   ]
  },
  {
   "cell_type": "code",
   "execution_count": 8,
   "metadata": {},
   "outputs": [
    {
     "data": {
      "text/plain": [
       "'9Jo1pu0y2zU6ktiwQm6gNA'"
      ]
     },
     "execution_count": 8,
     "metadata": {},
     "output_type": "execute_result"
    }
   ],
   "source": [
    "data[22]['business_id']"
   ]
  },
  {
   "cell_type": "code",
   "execution_count": 11,
   "metadata": {},
   "outputs": [],
   "source": [
    "bid=[]\n",
    "stars=[]\n",
    "text=[]\n"
   ]
  },
  {
   "cell_type": "code",
   "execution_count": 12,
   "metadata": {},
   "outputs": [
    {
     "name": "stdout",
     "output_type": "stream",
     "text": [
      "ERROR! Session/line number was not unique in database. History logging moved to new session 366\n"
     ]
    }
   ],
   "source": [
    "for i in data:\n",
    "    star=i['stars']\n",
    "    if star >= 4.0:\n",
    "        bid.append(i['business_id'])\n",
    "        stars.append(1)\n",
    "        text.append(i['text'])\n",
    "    if star <= 2.0:\n",
    "        bid.append(i['business_id'])\n",
    "        stars.append(0)\n",
    "        text.append(i['text'])"
   ]
  },
  {
   "cell_type": "code",
   "execution_count": 42,
   "metadata": {},
   "outputs": [],
   "source": [
    "#larger file, includes word vectors\n",
    "#python3 -m spacy download en_core_web_lg\n",
    "#smaller file, doesn't include word vectors\n",
    "#python3 -m spacy download en_core_web_sm\n",
    "\n",
    "import spacy\n",
    "from nltk.corpus import stopwords\n"
   ]
  },
  {
   "cell_type": "code",
   "execution_count": 43,
   "metadata": {},
   "outputs": [],
   "source": [
    "nlp=spacy.load('en_core_web_lg')"
   ]
  },
  {
   "cell_type": "code",
   "execution_count": 44,
   "metadata": {},
   "outputs": [
    {
     "data": {
      "text/plain": [
       "Horrible- Unclean, rancid, foul odors, unkempt, and poor service. The restaurant was nearly empty, and the cashier didn't even look up to say hello as my husband stood hungrily grinning at the counter. Needless to say, I talked him into driving up the road to the other location. This one is unacceptable."
      ]
     },
     "execution_count": 44,
     "metadata": {},
     "output_type": "execute_result"
    }
   ],
   "source": [
    "nlp(data[33]['text'])"
   ]
  },
  {
   "cell_type": "code",
   "execution_count": 51,
   "metadata": {},
   "outputs": [],
   "source": [
    "stop_words=stopwords.words('english')"
   ]
  },
  {
   "cell_type": "code",
   "execution_count": 61,
   "metadata": {},
   "outputs": [],
   "source": [
    "doc=nlp(data[35]['text'])"
   ]
  },
  {
   "cell_type": "code",
   "execution_count": 62,
   "metadata": {},
   "outputs": [],
   "source": [
    "nostop=[]\n",
    "for tok in doc:\n",
    "    if tok.text not in stop_words:\n",
    "        nostop.append(tok.text)"
   ]
  },
  {
   "cell_type": "code",
   "execution_count": 64,
   "metadata": {},
   "outputs": [],
   "source": [
    "doc1=nlp(data[35]['text'])\n",
    "doc2=nlp(data[36]['text'])"
   ]
  },
  {
   "cell_type": "code",
   "execution_count": 67,
   "metadata": {},
   "outputs": [
    {
     "data": {
      "text/plain": [
       "0.9480528772355883"
      ]
     },
     "execution_count": 67,
     "metadata": {},
     "output_type": "execute_result"
    }
   ],
   "source": [
    "doc2.similarity(doc1)"
   ]
  },
  {
   "cell_type": "code",
   "execution_count": 71,
   "metadata": {},
   "outputs": [
    {
     "data": {
      "text/plain": [
       "300"
      ]
     },
     "execution_count": 71,
     "metadata": {},
     "output_type": "execute_result"
    }
   ],
   "source": [
    "len(doc1.vector)"
   ]
  },
  {
   "cell_type": "code",
   "execution_count": 74,
   "metadata": {},
   "outputs": [
    {
     "name": "stdout",
     "output_type": "stream",
     "text": [
      "This\n",
      "300\n",
      "is\n",
      "300\n",
      "a\n",
      "300\n",
      "wonderful\n",
      "300\n",
      "nail\n",
      "300\n",
      "shop\n",
      "300\n",
      "!\n",
      "300\n",
      "Eric\n",
      "300\n",
      "the\n",
      "300\n",
      "owner\n",
      "300\n",
      "is\n",
      "300\n",
      "so\n",
      "300\n",
      "hospitable\n",
      "300\n",
      ",\n",
      "300\n",
      "he\n",
      "300\n",
      "takes\n",
      "300\n",
      "time\n",
      "300\n",
      "and\n",
      "300\n",
      "effort\n",
      "300\n",
      "on\n",
      "300\n",
      "your\n",
      "300\n",
      "nails\n",
      "300\n",
      "to\n",
      "300\n",
      "perfect\n",
      "300\n",
      "them\n",
      "300\n",
      "!\n",
      "300\n",
      "I\n",
      "300\n",
      "love\n",
      "300\n",
      "my\n",
      "300\n",
      "nails\n",
      "300\n",
      ",\n",
      "300\n",
      "they\n",
      "300\n",
      "'re\n",
      "300\n",
      "so\n",
      "300\n",
      "cute\n",
      "300\n",
      "and\n",
      "300\n",
      "symmetrical\n",
      "300\n",
      ".\n",
      "300\n",
      "Definitely\n",
      "300\n",
      "will\n",
      "300\n",
      "be\n",
      "300\n",
      "coming\n",
      "300\n",
      "back\n",
      "300\n",
      "to\n",
      "300\n",
      "this\n",
      "300\n",
      "spa\n",
      "300\n",
      "and\n",
      "300\n",
      "salon\n",
      "300\n",
      "!\n",
      "300\n",
      "If\n",
      "300\n",
      "you\n",
      "300\n",
      "'re\n",
      "300\n",
      "thinking\n",
      "300\n",
      "about\n",
      "300\n",
      "going\n",
      "300\n",
      ",\n",
      "300\n",
      "Do\n",
      "300\n",
      "n't\n",
      "300\n",
      "even\n",
      "300\n",
      "question\n",
      "300\n",
      "it\n",
      "300\n",
      ",\n",
      "300\n",
      "just\n",
      "300\n",
      "go\n",
      "300\n",
      "!\n",
      "300\n"
     ]
    }
   ],
   "source": [
    "for token in doc1:\n",
    "    print(token)\n",
    "    print(len(token.vector))"
   ]
  },
  {
   "cell_type": "code",
   "execution_count": null,
   "metadata": {},
   "outputs": [],
   "source": []
  }
 ],
 "metadata": {
  "kernelspec": {
   "display_name": "Python 3",
   "language": "python",
   "name": "python3"
  },
  "language_info": {
   "codemirror_mode": {
    "name": "ipython",
    "version": 3
   },
   "file_extension": ".py",
   "mimetype": "text/x-python",
   "name": "python",
   "nbconvert_exporter": "python",
   "pygments_lexer": "ipython3",
   "version": "3.6.6"
  }
 },
 "nbformat": 4,
 "nbformat_minor": 2
}
